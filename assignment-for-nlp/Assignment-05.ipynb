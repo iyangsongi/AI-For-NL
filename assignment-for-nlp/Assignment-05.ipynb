{
 "cells": [
  {
   "cell_type": "code",
   "execution_count": 3,
   "metadata": {},
   "outputs": [],
   "source": [
    "from gensim.models import Word2Vec"
   ]
  },
  {
   "cell_type": "code",
   "execution_count": 4,
   "metadata": {},
   "outputs": [],
   "source": [
    "sentences = [[\"cat\", \"say\", \"meow\"], [\"dog\", \"say\", \"woof\"]]"
   ]
  },
  {
   "cell_type": "code",
   "execution_count": 5,
   "metadata": {},
   "outputs": [],
   "source": [
    "model=Word2Vec(sentences,min_count=1)"
   ]
  },
  {
   "cell_type": "code",
   "execution_count": 7,
   "metadata": {},
   "outputs": [
    {
     "data": {
      "text/plain": [
       "{'cat': <gensim.models.keyedvectors.Vocab at 0x7f23ff8cada0>,\n",
       " 'say': <gensim.models.keyedvectors.Vocab at 0x7f23ff8cae10>,\n",
       " 'meow': <gensim.models.keyedvectors.Vocab at 0x7f23ff8cae80>,\n",
       " 'dog': <gensim.models.keyedvectors.Vocab at 0x7f23ff8cafd0>,\n",
       " 'woof': <gensim.models.keyedvectors.Vocab at 0x7f23ff858748>}"
      ]
     },
     "execution_count": 7,
     "metadata": {},
     "output_type": "execute_result"
    }
   ],
   "source": [
    "model.wv.vocab"
   ]
  },
  {
   "cell_type": "code",
   "execution_count": 8,
   "metadata": {},
   "outputs": [
    {
     "name": "stderr",
     "output_type": "stream",
     "text": [
      "/home/yangsong/.local/lib/python3.6/site-packages/ipykernel_launcher.py:1: DeprecationWarning: Call to deprecated `most_similar` (Method will be removed in 4.0.0, use self.wv.most_similar() instead).\n",
      "  \"\"\"Entry point for launching an IPython kernel.\n"
     ]
    },
    {
     "data": {
      "text/plain": [
       "[('meow', 0.003477625548839569),\n",
       " ('say', -0.03062855824828148),\n",
       " ('woof', -0.05768103897571564),\n",
       " ('dog', -0.08468098938465118)]"
      ]
     },
     "execution_count": 8,
     "metadata": {},
     "output_type": "execute_result"
    }
   ],
   "source": [
    "model.most_similar('cat')"
   ]
  },
  {
   "cell_type": "code",
   "execution_count": 9,
   "metadata": {},
   "outputs": [
    {
     "data": {
      "text/plain": [
       "array([-2.7725052e-03,  4.4672862e-03,  2.8882227e-03, -7.6991483e-04,\n",
       "        1.8947308e-03,  2.9845112e-03, -3.8198949e-04, -2.7201150e-04,\n",
       "        8.3067268e-04,  1.8996345e-03, -2.4000907e-03, -1.6192804e-03,\n",
       "        2.1130536e-04,  1.5170805e-03, -3.2779810e-03,  1.9573793e-03,\n",
       "        7.9496298e-05, -4.9528196e-03, -1.5629068e-03,  3.7596533e-03,\n",
       "        4.6997075e-03, -6.8429502e-04, -3.8360157e-03, -2.7003193e-03,\n",
       "       -3.4277330e-03,  3.8964169e-03,  4.9240231e-03,  2.3672716e-03,\n",
       "       -2.7952725e-03,  3.1345841e-03,  2.0592434e-04, -4.4725137e-03,\n",
       "        2.9802956e-03, -4.9045738e-03,  4.9308841e-03,  1.4875022e-03,\n",
       "       -3.9455649e-03,  3.8897009e-03,  3.1350835e-03,  2.1978223e-03,\n",
       "        1.7738510e-03, -3.7070075e-03,  4.9688332e-03,  1.5989456e-03,\n",
       "       -1.9965763e-03, -3.7164695e-04, -2.9566302e-03, -4.0486368e-04,\n",
       "       -1.9612596e-03,  3.2543440e-03, -6.8656605e-04,  2.8235195e-03,\n",
       "        4.3923701e-03, -1.6691491e-04, -3.4871895e-03,  7.7274157e-04,\n",
       "       -3.4233194e-03, -2.8114817e-03, -4.9728737e-03,  4.7704685e-03,\n",
       "       -4.2874352e-03, -4.0434171e-03, -2.4042709e-03, -1.6562588e-03,\n",
       "       -2.8272081e-04, -4.5840256e-04, -2.8459376e-03, -1.6543574e-03,\n",
       "       -2.0540406e-03,  3.7185040e-03,  3.6890060e-03,  4.1347328e-03,\n",
       "       -1.6287002e-03,  2.0890360e-04, -2.2065440e-04, -3.0352466e-03,\n",
       "        1.5240540e-03, -3.7269318e-03, -1.8329107e-03, -5.6145655e-04,\n",
       "        2.0691976e-03, -4.5182277e-03,  2.8184108e-03,  1.7159121e-03,\n",
       "        3.1212892e-03, -4.9709785e-03,  3.6264786e-03,  2.9604291e-03,\n",
       "       -4.5260787e-03, -6.3575443e-04, -1.2688295e-03, -4.2461734e-03,\n",
       "       -3.1303521e-04,  2.1765961e-03,  2.1714068e-03,  2.8757360e-03,\n",
       "       -3.5509723e-03,  3.2784708e-03,  2.7919882e-03,  1.9996390e-03],\n",
       "      dtype=float32)"
      ]
     },
     "execution_count": 9,
     "metadata": {},
     "output_type": "execute_result"
    }
   ],
   "source": [
    "model.wv['cat']"
   ]
  },
  {
   "cell_type": "code",
   "execution_count": 13,
   "metadata": {},
   "outputs": [],
   "source": [
    "datapath='/home/yangsong/sqlResult_1558435.csv'"
   ]
  },
  {
   "cell_type": "code",
   "execution_count": 17,
   "metadata": {},
   "outputs": [],
   "source": [
    "import pandas as pd\n",
    "from gensim.models.word2vec import LineSentence \n",
    "import jieba"
   ]
  },
  {
   "cell_type": "code",
   "execution_count": 18,
   "metadata": {},
   "outputs": [],
   "source": [
    "data=pd.read_csv(datapath,encoding='gb18030')"
   ]
  },
  {
   "cell_type": "code",
   "execution_count": 29,
   "metadata": {},
   "outputs": [],
   "source": [
    "samples=data['content'][:1000].tolist()"
   ]
  },
  {
   "cell_type": "code",
   "execution_count": 32,
   "metadata": {},
   "outputs": [],
   "source": [
    "with open('samples','a+',encoding='utf-8') as f:\n",
    "    for s in samples:\n",
    "        \n",
    "        f.write(' '.join(jieba.cut(str(s)))+'\\n')"
   ]
  },
  {
   "cell_type": "code",
   "execution_count": 34,
   "metadata": {},
   "outputs": [],
   "source": [
    "sentences=LineSentence('samples')"
   ]
  },
  {
   "cell_type": "code",
   "execution_count": 35,
   "metadata": {},
   "outputs": [],
   "source": [
    "model=Word2Vec(sentences,min_count=1)"
   ]
  },
  {
   "cell_type": "code",
   "execution_count": 36,
   "metadata": {},
   "outputs": [
    {
     "data": {
      "text/plain": [
       "array([-1.37791073e+00, -9.72700179e-01,  1.01311795e-01,  1.14086628e+00,\n",
       "        4.77361411e-01,  7.06722558e-01,  2.10792392e-01, -5.69530129e-01,\n",
       "        7.18904436e-01,  2.85418570e-01, -8.14751744e-01,  1.89120285e-02,\n",
       "        5.68113029e-01, -1.97827101e-01,  2.77957320e-02,  3.82309347e-01,\n",
       "       -6.91210032e-02,  1.24403559e-01,  9.05372739e-01, -2.69685332e-02,\n",
       "       -9.54494178e-01,  5.31930625e-01, -7.00914502e-01, -1.30901480e+00,\n",
       "       -4.26044196e-01, -1.46495283e-01,  1.46537888e+00,  1.97441056e-02,\n",
       "        1.71316639e-01,  1.96530998e+00, -3.06621611e-01,  3.45906794e-01,\n",
       "       -2.59635746e-01, -1.82852435e+00, -3.89849812e-01,  7.28952885e-01,\n",
       "       -1.11331713e+00, -6.49710238e-01, -6.43993080e-01,  8.78434062e-01,\n",
       "       -2.34073937e-01,  6.23679936e-01,  3.83148462e-01,  8.38413477e-01,\n",
       "       -4.48450804e-01, -4.70240623e-01, -7.54237592e-01, -9.32521597e-02,\n",
       "        1.22794139e+00,  1.55907369e+00,  2.08118343e+00, -8.61433670e-02,\n",
       "        2.22028986e-01, -1.34965634e+00,  1.68212011e-01,  4.38383013e-01,\n",
       "       -6.40164733e-01,  1.13598248e-02,  2.15848297e-01,  1.83017552e-01,\n",
       "       -2.42417082e-01, -2.12595510e+00,  1.04083610e+00,  1.33391535e+00,\n",
       "        3.75547945e-01,  2.70649940e-01,  3.60114455e-01,  7.87580907e-01,\n",
       "       -4.69745137e-02, -1.13999641e+00, -1.04702389e+00,  6.03622377e-01,\n",
       "        4.11190331e-01,  1.50132895e-01, -9.35516715e-01, -1.84940040e+00,\n",
       "        1.22472799e+00, -1.64244235e+00,  7.76055217e-01, -2.16671348e+00,\n",
       "       -2.73818374e-01, -5.49328864e-01,  5.07061243e-01, -5.94499350e-01,\n",
       "       -1.16033149e+00, -1.02394974e+00, -8.82681534e-02, -1.43210065e+00,\n",
       "       -3.35590452e-01,  2.12467066e-03,  6.64135933e-01, -6.55484140e-01,\n",
       "        1.24153399e+00, -4.82691169e-01, -7.95776010e-01, -4.74957198e-01,\n",
       "       -2.24405670e+00,  9.21459317e-01,  1.67604065e+00,  2.67199218e-01],\n",
       "      dtype=float32)"
      ]
     },
     "execution_count": 36,
     "metadata": {},
     "output_type": "execute_result"
    }
   ],
   "source": [
    "model.wv['汽车']"
   ]
  },
  {
   "cell_type": "markdown",
   "metadata": {},
   "source": [
    "# Name Entity Recginition"
   ]
  },
  {
   "cell_type": "markdown",
   "metadata": {},
   "source": [
    "**结巴命名实体与哈工大词性标注比较**"
   ]
  },
  {
   "cell_type": "code",
   "execution_count": 41,
   "metadata": {},
   "outputs": [],
   "source": [
    "import  os\n",
    "from jieba import posseg\n",
    "from pyltp import Postagger\n",
    "from pyltp import Segmentor"
   ]
  },
  {
   "cell_type": "code",
   "execution_count": 42,
   "metadata": {},
   "outputs": [],
   "source": [
    "LTP_DATA_DIR = '/home/yangsong/Downloads/ltp_data_v3.4.0'  # ltp模型目录的路径\n",
    "pos_model_path = os.path.join(LTP_DATA_DIR, 'pos.model')  # 词性标注模型路径，模型名称为`pos.model`\n",
    "cws_model_path = os.path.join(LTP_DATA_DIR, 'cws.model')  # 分词模型路径，模型名称为`cws.model`"
   ]
  },
  {
   "cell_type": "code",
   "execution_count": 43,
   "metadata": {},
   "outputs": [],
   "source": [
    "text = \"\"\"新华社华盛顿4月26日电 美国总统特朗普26日表示，美国将撤销在《武器贸易条约》上的签字。\n",
    "\n",
    "特朗普当天在美国印第安纳州首府印第安纳波利斯举行的美国全国步枪协会年会上说，《武器贸易条约》是一个“严重误导的条约”，美国将撤销在该条约上的签字，联合国将很快收到美国正式拒绝该条约的通知。\"\"\""
   ]
  },
  {
   "cell_type": "code",
   "execution_count": 44,
   "metadata": {},
   "outputs": [],
   "source": [
    "segmentor = Segmentor()  # 初始化实例\n",
    "segmentor.load(cws_model_path)  # 加载模型\n",
    "words_pyltp = segmentor.segment(text)  # 分词"
   ]
  },
  {
   "cell_type": "code",
   "execution_count": 45,
   "metadata": {},
   "outputs": [],
   "source": [
    "postagger = Postagger()  # 初始化实例\n",
    "postagger.load(pos_model_path)  # 加载模型"
   ]
  },
  {
   "cell_type": "code",
   "execution_count": 55,
   "metadata": {},
   "outputs": [
    {
     "name": "stdout",
     "output_type": "stream",
     "text": [
      "[('新华社', 'ni'), ('华盛顿', 'ns'), ('4月', 'nt'), ('26日', 'nt'), ('电', 'n'), ('美国', 'ns'), ('总统', 'n'), ('特朗普', 'nh'), ('26日', 'nt'), ('表示', 'v'), ('，', 'wp'), ('美国', 'ns'), ('将', 'd'), ('撤销', 'v'), ('在', 'p'), ('《', 'wp'), ('武器', 'n'), ('贸易', 'v'), ('条约', 'n'), ('》', 'wp'), ('上', 'nd'), ('的', 'u'), ('签字', 'v'), ('。', 'wp'), ('\\n\\n', 'v'), ('特朗普', 'nz'), ('当天', 'nt'), ('在', 'p'), ('美国', 'ns'), ('印第安纳州', 'ns'), ('首府', 'n'), ('印第安纳波利斯', 'ns'), ('举行', 'v'), ('的', 'u'), ('美国', 'ns'), ('全国', 'n'), ('步枪', 'n'), ('协会', 'n'), ('年会', 'n'), ('上', 'nd'), ('说', 'v'), ('，', 'wp'), ('《', 'wp'), ('武器', 'n'), ('贸易', 'v'), ('条约', 'n'), ('》', 'wp'), ('是', 'v'), ('一个', 'm'), ('“', 'wp'), ('严重', 'a'), ('误导', 'v'), ('的', 'u'), ('条约', 'n'), ('”', 'wp'), ('，', 'wp'), ('美国', 'ns'), ('将', 'd'), ('撤销', 'v'), ('在', 'p'), ('该', 'r'), ('条约', 'n'), ('上', 'nd'), ('的', 'u'), ('签字', 'v'), ('，', 'wp'), ('联合国', 'ni'), ('将', 'd'), ('很快', 'd'), ('收到', 'v'), ('美国', 'ns'), ('正式', 'a'), ('拒绝', 'v'), ('该', 'r'), ('条约', 'n'), ('的', 'u'), ('通知', 'n'), ('。', 'wp')]\n",
      "---------------------------------------------------------------------------------\n",
      "[pair('新华社', 'nt'), pair('华盛顿', 'ns'), pair('4', 'm'), pair('月', 'm'), pair('26', 'm'), pair('日电', 'j'), pair(' ', 'x'), pair('美国', 'ns'), pair('总统', 'n'), pair('特朗普', 'nr'), pair('26', 'm'), pair('日', 'm'), pair('表示', 'v'), pair('，', 'x'), pair('美国', 'ns'), pair('将', 'd'), pair('撤销', 'v'), pair('在', 'p'), pair('《', 'x'), pair('武器', 'n'), pair('贸易', 'vn'), pair('条约', 'n'), pair('》', 'x'), pair('上', 'f'), pair('的', 'uj'), pair('签字', 'v'), pair('。', 'x'), pair('\\n', 'x'), pair('\\n', 'x'), pair('特朗普', 'nr'), pair('当天', 't'), pair('在', 'p'), pair('美国', 'ns'), pair('印第安纳州', 'ns'), pair('首府', 'n'), pair('印第安纳波利斯', 'ns'), pair('举行', 'v'), pair('的', 'uj'), pair('美国', 'ns'), pair('全国', 'n'), pair('步枪', 'n'), pair('协会', 'n'), pair('年', 'm'), pair('会上', 't'), pair('说', 'v'), pair('，', 'x'), pair('《', 'x'), pair('武器', 'n'), pair('贸易', 'vn'), pair('条约', 'n'), pair('》', 'x'), pair('是', 'v'), pair('一个', 'm'), pair('“', 'x'), pair('严重', 'a'), pair('误导', 'n'), pair('的', 'uj'), pair('条约', 'n'), pair('”', 'x'), pair('，', 'x'), pair('美国', 'ns'), pair('将', 'd'), pair('撤销', 'v'), pair('在', 'p'), pair('该', 'r'), pair('条约', 'n'), pair('上', 'f'), pair('的', 'uj'), pair('签字', 'v'), pair('，', 'x'), pair('联合国', 'nt'), pair('将', 'd'), pair('很快', 'd'), pair('收到', 'v'), pair('美国', 'ns'), pair('正式', 'ad'), pair('拒绝', 'v'), pair('该', 'r'), pair('条约', 'n'), pair('的', 'uj'), pair('通知', 'v'), pair('。', 'x')]\n"
     ]
    }
   ],
   "source": [
    "pyltp_=list(postagger.postag(words_pyltp))#哈工大词性标注\n",
    "print([(words_pyltp[k],v) for k,v in enumerate(pyltp_)])\n",
    "print('---------------------------------------------------------------------------------')\n",
    "jieba_=list(posseg.cut(text))#jieba词性标注\n",
    "print(list(jieba_))\n"
   ]
  },
  {
   "cell_type": "markdown",
   "metadata": {},
   "source": [
    "**哈理工的词性分词及词性标注相对准确些，但是需要调用训练模型会影响算法的执行时间**"
   ]
  }
 ],
 "metadata": {
  "kernelspec": {
   "display_name": "Python 3",
   "language": "python",
   "name": "python3"
  },
  "language_info": {
   "codemirror_mode": {
    "name": "ipython",
    "version": 3
   },
   "file_extension": ".py",
   "mimetype": "text/x-python",
   "name": "python",
   "nbconvert_exporter": "python",
   "pygments_lexer": "ipython3",
   "version": "3.6.4"
  }
 },
 "nbformat": 4,
 "nbformat_minor": 2
}
