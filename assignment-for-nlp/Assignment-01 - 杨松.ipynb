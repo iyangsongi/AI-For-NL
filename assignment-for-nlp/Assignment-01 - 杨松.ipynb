{
 "cells": [
  {
   "cell_type": "markdown",
   "metadata": {},
   "source": [
    "### Assignment-01"
   ]
  },
  {
   "cell_type": "markdown",
   "metadata": {},
   "source": [
    "## 基于模式匹配的对话机器人实现"
   ]
  },
  {
   "cell_type": "code",
   "execution_count": 6,
   "metadata": {},
   "outputs": [],
   "source": [
    "import random\n",
    "import jieba\n",
    "import re \n",
    "#判断是否以问号开头，是否均为字符（不含空格，数字）--杨松\n",
    "def is_variable(pat):\n",
    "    return pat.startswith('?') and all(s.isalpha() for s in pat[1:])"
   ]
  },
  {
   "cell_type": "code",
   "execution_count": 4,
   "metadata": {},
   "outputs": [],
   "source": [
    "def pat_match(pattern, saying):\n",
    "    if not pattern or not saying: return []\n",
    "    \n",
    "    if is_variable(pattern[0]):\n",
    "        return [(pattern[0], saying[0])] + pat_match(pattern[1:], saying[1:])\n",
    "    else:\n",
    "        if pattern[0] != saying[0]: return []\n",
    "        else:\n",
    "            return pat_match(pattern[1:], saying[1:])"
   ]
  },
  {
   "cell_type": "code",
   "execution_count": 10,
   "metadata": {},
   "outputs": [],
   "source": [
    "def pat_to_dict(patterns):\n",
    "    return {k: v for k, v in patterns}"
   ]
  },
  {
   "cell_type": "code",
   "execution_count": 8,
   "metadata": {},
   "outputs": [],
   "source": [
    "def subsitite(rule, parsed_rules):\n",
    "    if not rule: return []\n",
    "    return [parsed_rules.get(rule[0], rule[0])] + subsitite(rule[1:], parsed_rules)"
   ]
  },
  {
   "cell_type": "code",
   "execution_count": 16,
   "metadata": {},
   "outputs": [],
   "source": [
    "defined_patterns = {\n",
    "    \"I need ?X\": [\"Image you will get ?X soon\", \"Why do you need ?X ?\"], \n",
    "    \"My ?X told me something\": [\"Talk about more about your ?X\", \"How do you think about your ?X ?\"]\n",
    "}"
   ]
  },
  {
   "cell_type": "code",
   "execution_count": 11,
   "metadata": {
    "scrolled": false
   },
   "outputs": [
    {
     "name": "stdout",
     "output_type": "stream",
     "text": [
      "Why do you neeed iPhone\n"
     ]
    }
   ],
   "source": [
    "def get_response(saying, rules):\n",
    "    \"\"\"\" please implement the code, to get the response as followings:\n",
    "    \n",
    "    >>> get_response('I need iPhone') \n",
    "    >>> Image you will get iPhone soon\n",
    "    >>> get_response(\"My mother told me something\")\n",
    "    >>> Talk about more about your monther.\n",
    "    \"\"\"\n",
    "    for k,v in rules.items():\n",
    "        if pat_match(k.split(),saying.split()):\n",
    "            print (' '.join(subsitite(random.choice(v).split(), pat_to_dict(pat_match(k.split(),saying.split())))))\n",
    "get_response('I need iPhone',response_pair)\n",
    "        \n",
    "    "
   ]
  },
  {
   "cell_type": "code",
   "execution_count": 273,
   "metadata": {},
   "outputs": [],
   "source": [
    "def is_pattern_segment(pattern):\n",
    "    return pattern.startswith('?*') and all(a.isalpha() for a in pattern[2:])"
   ]
  },
  {
   "cell_type": "code",
   "execution_count": 274,
   "metadata": {},
   "outputs": [],
   "source": [
    "fail = [True, None]\n",
    "\n",
    "def pat_match_with_seg(pattern, saying):\n",
    "    if not pattern or not saying: return []\n",
    "    \n",
    "    pat = pattern[0]\n",
    "    if is_variable(pat):\n",
    "        return [(pat, saying[0])] + pat_match_with_seg(pattern[1:], saying[1:])\n",
    "    elif is_pattern_segment(pat):\n",
    "        match, index = segment_match(pattern, saying)\n",
    "        return [match] + pat_match_with_seg(pattern[1:], saying[index:])\n",
    "    elif pat == saying[0]:\n",
    "        return pat_match_with_seg(pattern[1:], saying[1:])\n",
    "    else:\n",
    "        return fail"
   ]
  },
  {
   "cell_type": "code",
   "execution_count": 12,
   "metadata": {},
   "outputs": [],
   "source": [
    "def segment_match(pattern, saying):\n",
    "    seg_pat, rest = pattern[0], pattern[1:]\n",
    "    seg_pat = seg_pat.replace('?*', '?')\n",
    "\n",
    "    if not rest: return (seg_pat, saying), len(saying)    \n",
    "    \n",
    "    for i, token in enumerate(saying):\n",
    "        if rest[0] == token:  \n",
    "            return (seg_pat, saying[:i]), i\n",
    "    \n",
    "    return (seg_pat, saying), len(saying)\n",
    "        "
   ]
  },
  {
   "cell_type": "code",
   "execution_count": 2,
   "metadata": {},
   "outputs": [],
   "source": [
    "response_pair = {\n",
    "    'I need ?X': [\n",
    "        \"Why do you neeed ?X\"\n",
    "    ],\n",
    "    \"I dont like my ?X\": [\"What bad things did ?X do for you?\"]\n",
    "}"
   ]
  },
  {
   "cell_type": "code",
   "execution_count": 264,
   "metadata": {},
   "outputs": [],
   "source": [
    "def pat_to_dict(patterns):\n",
    "    return {k: ' '.join(v) if isinstance(v, list) else v for k, v in patterns}"
   ]
  },
  {
   "cell_type": "markdown",
   "metadata": {},
   "source": [
    "### 现在是你的时间了"
   ]
  },
  {
   "cell_type": "code",
   "execution_count": 37,
   "metadata": {},
   "outputs": [],
   "source": [
    "#我们给大家一些例子: \n",
    "    \n",
    "rules = {\n",
    "    \"?*X hello ?*Y\": [\"Hi, how do you do?\"],\n",
    "    \"I was ?*X\": [\"Were you really ?X ?\", \"I already knew you were ?X .\"]\n",
    "}"
   ]
  },
  {
   "cell_type": "markdown",
   "metadata": {},
   "source": [
    "### 问题1"
   ]
  },
  {
   "cell_type": "markdown",
   "metadata": {},
   "source": [
    "编写一个程序, ```get_response(saying, response_rules)```输入是一个字符串 + 我们定义的 rules，例如上边我们所写的 pattern， 输出是一个回答。"
   ]
  },
  {
   "cell_type": "code",
   "execution_count": 277,
   "metadata": {},
   "outputs": [
    {
     "name": "stdout",
     "output_type": "stream",
     "text": [
      "I already knew you were five .\n",
      "Hi, how do you do?\n"
     ]
    }
   ],
   "source": [
    "def get_response(saying, response_rules):\n",
    "    for k,v in response_rules.items():\n",
    "        if set(k.split()).intersection(set(saying.split())):\n",
    "            print (' '.join(subsitite(random.choice(v).split(), pat_to_dict(pat_match_with_seg(k.split(), saying.split()))))) \n",
    "get_response('I was five',rules)\n",
    "get_response('hello doctor wang', rules)"
   ]
  },
  {
   "cell_type": "markdown",
   "metadata": {},
   "source": [
    "### 问题2"
   ]
  },
  {
   "cell_type": "markdown",
   "metadata": {},
   "source": [
    "改写以上程序，将程序变成能够支持中文输入的模式。\n",
    "*提示*: 你可以需用用到 jieba 分词"
   ]
  },
  {
   "cell_type": "code",
   "execution_count": 3,
   "metadata": {},
   "outputs": [
    {
     "name": "stdout",
     "output_type": "stream",
     "text": [
      "你觉得他们可能不是朋友？\n",
      "Why do you want Apple\n",
      "你为什么要提AI的事情？\n",
      "其实很有可能我们互相学习\n",
      "你觉得聪明有什么问题吗?\n",
      "很有趣\n"
     ]
    }
   ],
   "source": [
    "#encoding=utf-8\n",
    "\"\"\"\n",
    "以下为全部程序部分 .\n",
    "目前有一个问题，例如以下语句：匹配'?*x I want ?*y'，我输入zhangsan I want apple 可以，但是输入'I want apple'则匹配失败。\n",
    "\"\"\"\n",
    "import random\n",
    "import jieba\n",
    "import re \n",
    "#将rule与saying未知部分一一对应，若rule中固定部分在saying中没有，返回False\n",
    "def  filter_rules(rule,saying):\n",
    "    dicts = {}\n",
    "    if  ' ' in rule :\n",
    "        #英文处理\n",
    "        rule_list=rule.split(' ')\n",
    "        saying_list=saying.split(' ')\n",
    "        for i, el in enumerate(rule_list):\n",
    "            if '?*' in el:\n",
    "                el = el.replace('*', '')\n",
    "                dicts[el] = saying_list[i]\n",
    "            elif el in saying_list:\n",
    "                pass\n",
    "            else:return False\n",
    "    else:\n",
    "        #中文处理\n",
    "        lists = []\n",
    "        while '?*' in rule:\n",
    "            i = rule.index('?*')\n",
    "            lists.append(rule[i:i + 3])\n",
    "            rule = rule.replace(rule[i:i + 3], '|')\n",
    "        list_rule=rid_empty(rule.split('|'))\n",
    "        for x in list_rule:\n",
    "            if x in saying:\n",
    "                saying=saying.replace(x,'|')\n",
    "            else:return False\n",
    "        list_saying=saying.split('|')\n",
    "        for k,v in enumerate(lists):\n",
    "                v = v.replace('*', '')\n",
    "                dicts[v]=list_saying[k]\n",
    "    return dicts\n",
    "\n",
    "#过滤数组中空元素\n",
    "def  rid_empty(strs):\n",
    "    while '' in strs:\n",
    "        strs.remove('')\n",
    "    return strs\n",
    "\n",
    "#输入问题获取回复\n",
    "def  get_response(saying,rule_responses):\n",
    "    for  k,v in rule_responses.items():\n",
    "        rule_format=filter_rules(k,saying)\n",
    "        if  not rule_format:continue\n",
    "        response=random.choice(v)\n",
    "        for  x,y in rule_format.items():\n",
    "            if  x in response:\n",
    "                response=response.replace(x,y)\n",
    "        return response\n",
    "print (get_response('张三他们是朋友吗？',rule_responses))\n",
    "print (get_response('zhangsan I want Apple',rule_responses))\n",
    "print (get_response('我是AI机器人',rule_responses))\n",
    "print (get_response('生活中我学习你的优点',rule_responses))\n",
    "print (get_response('你和我都聪明',rule_responses))\n",
    "print (get_response(' ',rule_responses))"
   ]
  },
  {
   "cell_type": "markdown",
   "metadata": {},
   "source": [
    "### 问题3"
   ]
  },
  {
   "cell_type": "markdown",
   "metadata": {},
   "source": [
    "多设计一些模式，让这个程序变得更好玩，多和大家交流，看看大家有什么好玩的模式"
   ]
  },
  {
   "cell_type": "code",
   "execution_count": null,
   "metadata": {},
   "outputs": [],
   "source": [
    "\"\"\"以下改进版可进行持续聊天，有以下特点：\n",
    "1.当用户输入短语符合指定rule规则但不全，机器人可引导补全。\n",
    "2.当用户语句无法匹配到rule时，机器人可提示用户输入规则。\n",
    "3.当用户语句包含再见，机器人作出再见回复，并自动退出程序。\"\"\"\n",
    "import random\n",
    "rule_responses = {\n",
    "    '?*x hello ?*y': ['How do you do', 'Please state your problem'],\n",
    "    '?*x I want ?*y': ['what would it mean if you got ?y', 'Why do you want ?y', 'Suppose you got ?y soon'],\n",
    "    '?*x if ?*y': ['Do you really think its likely that ?y', 'Do you wish that ?y', 'What do you think about ?y', 'Really-- if ?y'],\n",
    "    '?*x no ?*y': ['why not?', 'You are being a negative', 'Are you saying \\'No\\' just to be negative?'],\n",
    "    '?*x I was ?*y': ['Were you really', 'Perhaps I already knew you were ?y', 'Why do you tell me you were ?y now?'],\n",
    "    '?*x I feel ?*y': ['Do you often feel ?y ?', 'What other feelings do you have?'],\n",
    "    '?*x你好?*y': ['你好呀', '请告诉我你的问题'],\n",
    "    '?*x我想?*y': ['你觉得?y有什么意义呢？', '为什么你想?y', '你可以想想你很快就可以?y了'],\n",
    "    '?*x我想要?*y': ['?x想问你，你觉得?y有什么意义呢?', '为什么你想?y', '?x觉得... 你可以想想你很快就可以有?y了', '你看?x像?y不', '我看你就像?y'],\n",
    "    '?*x喜欢?*y': ['喜欢?y的哪里？', '?y有什么好的呢？', '你想要?y吗？'],\n",
    "    '?*x讨厌?*y': ['?y怎么会那么讨厌呢?', '讨厌?y的哪里？', '?y有什么不好呢？', '你不想要?y吗？'],\n",
    "    '?*xAI?*y': ['你为什么要提AI的事情？', '你为什么觉得AI要解决你的问题？'],\n",
    "    '?*x机器人?*y': ['你为什么要提机器人的事情？', '你为什么觉得机器人要解决你的问题？'],\n",
    "    '?*x对不起?*y': ['不用道歉', '你为什么觉得你需要道歉呢?'],\n",
    "    '?*x我记得?*y': ['你经常会想起这个吗？', '除了?y你还会想起什么吗？', '你为什么和我提起?y'],\n",
    "    '?*x如果?*y': ['你真的觉得?y会发生吗？', '你希望?y吗?', '真的吗？如果?y的话', '关于?y你怎么想？'],\n",
    "    '?*x我?*z梦见?*y':['真的吗? --- ?y', '你在醒着的时候，以前想象过?y吗？', '你以前梦见过?y吗'],\n",
    "    '?*x妈妈?*y': ['你家里除了?y还有谁?', '嗯嗯，多说一点和你家里有关系的', '她对你影响很大吗？'],\n",
    "    '?*x爸爸?*y': ['你家里除了?y还有谁?', '嗯嗯，多说一点和你家里有关系的', '他对你影响很大吗？', '每当你想起你爸爸的时候， 你还会想起其他的吗?'],\n",
    "    '?*x我愿意?*y': ['我可以帮你?y吗？', '你可以解释一下，为什么想?y'],\n",
    "    '?*x我很难过，因为?*y': ['我听到你这么说， 也很难过', '?y不应该让你这么难过的'],\n",
    "    '?*x难过?*y': ['我听到你这么说， 也很难过',\n",
    "                 '不应该让你这么难过的，你觉得你拥有什么，就会不难过?',\n",
    "                 '你觉得事情变成什么样，你就不难过了?'],\n",
    "    '?*x就像?*y': ['你觉得?x和?y有什么相似性？', '?x和?y真的有关系吗？', '怎么说？'],\n",
    "    '?*x和?*y都?*z': ['你觉得?z有什么问题吗?', '?z会对你有什么影响呢?'],\n",
    "    '?*x和?*y一样?*z': ['你觉得?z有什么问题吗?', '?z会对你有什么影响呢?'],\n",
    "    '?*x我是?*y': ['真的吗？', '?x想告诉你，或许我早就知道你是?y', '你为什么现在才告诉我你是?y'],\n",
    "    '?*x我是?*y吗': ['如果你是?y会怎么样呢？', '你觉得你是?y吗', '如果你是?y，那一位着什么?'],\n",
    "    '?*x你是?*y吗':  ['你为什么会对我是不是?y感兴趣?', '那你希望我是?y吗', '你要是喜欢， 我就会是?y'],\n",
    "    '?*x你是?*y' : ['为什么你觉得我是?y'],\n",
    "    '?*x因为?*y' : ['?y是真正的原因吗？', '你觉得会有其他原因吗?'],\n",
    "    '?*x我不能?*y': ['你或许现在就能?*y', '如果你能?*y,会怎样呢？'],\n",
    "    '?*x我觉得?*y': ['你经常这样感觉吗？', '除了到这个，你还有什么其他的感觉吗？'],\n",
    "    '?*x我?*y你?*z': ['其实很有可能我们互相?y'],\n",
    "    '?*x你为什么不?*y': ['你自己为什么不?y', '你觉得我不会?y', '等我心情好了，我就?y'],\n",
    "    '?*x好的?*y': ['好的', '你是一个很正能量的人'],\n",
    "    '?*x嗯嗯?*y': ['好的', '你是一个很正能量的人'],\n",
    "    '?*x不嘛?*y': ['为什么不？', '你有一点负能量', '你说 不，是想表达不想的意思吗？'],\n",
    "    '?*x不要?*y': ['为什么不？', '你有一点负能量', '你说 不，是想表达不想的意思吗？'],\n",
    "    '?*x有些人?*y': ['具体是哪些人呢?'],\n",
    "    '?*x有的人?*y': ['具体是哪些人呢?'],\n",
    "    '?*x某些人?*y': ['具体是哪些人呢?'],\n",
    "    '?*x每个人?*y': ['我确定不是人人都是', '你能想到一点特殊情况吗？', '例如谁？', '你看到的其实只是一小部分人'],\n",
    "    '?*x所有人?*y': ['我确定不是人人都是', '你能想到一点特殊情况吗？', '例如谁？', '你看到的其实只是一小部分人'],\n",
    "    '?*x总是?*y': ['你能想到一些其他情况吗?', '例如什么时候?', '你具体是说哪一次？', '真的---总是吗？'],\n",
    "    '?*x一直?*y': ['你能想到一些其他情况吗?', '例如什么时候?', '你具体是说哪一次？', '真的---总是吗？'],\n",
    "    '?*x或许?*y': ['你看起来不太确定'],\n",
    "    '?*x可能?*y': ['你看起来不太确定'],\n",
    "    '?*x他们是?*y吗？': ['你觉得他们可能不是?y？'],\n",
    "    # '?*x': ['很有趣', '请继续', '我不太确定我很理解你说的, 能稍微详细解释一下吗?']\n",
    "}\n",
    "mid_reply=[\"什么？\",\"啥？继续，我的朋友\",\"？？？，然后呢？\",\"嗯嗯，你接着说...\"]\n",
    "def  filter_rules(rule,saying):\n",
    "    #以下处理是将rule中的未知量?*x,?*y等对应到saying未知，若不匹配返回错误\n",
    "    dicts = {}\n",
    "    if  ' ' in rule :\n",
    "        #英文处理\n",
    "        rule_list=rule.split(' ')\n",
    "        saying_list=saying.split(' ')\n",
    "        if  len(rule_list)!=len(saying):return  False\n",
    "        for i, el in enumerate(rule_list):\n",
    "            if '?*' in el:\n",
    "                el = el.replace('*', '')\n",
    "                dicts[el] = saying_list[i]\n",
    "            elif el in saying_list:\n",
    "                pass\n",
    "            else:return False\n",
    "    else:\n",
    "        #中文处理\n",
    "        lists = []\n",
    "        while '?*' in rule:\n",
    "            i = rule.index('?*')\n",
    "            lists.append(rule[i:i + 3])\n",
    "            rule = rule.replace(rule[i:i + 3], '|')\n",
    "        list_rule=rid_empty(rule.split('|'))\n",
    "        for x in list_rule:\n",
    "            if x in saying:\n",
    "                saying=saying.replace(x,'|')\n",
    "            else:return False\n",
    "        list_saying=saying.split('|')\n",
    "        for k,v in enumerate(lists):\n",
    "                v = v.replace('*', '')\n",
    "                dicts[v]=list_saying[k]\n",
    "    return dicts\n",
    "\n",
    "def  rid_empty(strs):\n",
    "    #去除数组中空字符串\n",
    "    while '' in strs:\n",
    "        strs.remove('')\n",
    "    return strs\n",
    "\n",
    "def  get_response(saying,rule_responses):\n",
    "    #输入问题获取回复\n",
    "        lists=list()\n",
    "        for  k,v in rule_responses.items():\n",
    "            lists.append(k.replace('?*',''))\n",
    "            if  saying in k:\n",
    "                continue_ask(saying)\n",
    "            rule_format=filter_rules(k,saying)\n",
    "            if  not rule_format:\n",
    "                continue\n",
    "            response=random.choice(v)\n",
    "            for  x,y in rule_format.items():\n",
    "                if  x in response:\n",
    "                    response=response.replace(x,y)\n",
    "            return response\n",
    "        return  \"还要麻烦你重新换一种方式说，我1岁智商，没听明白....,你可以用以下方式跟我交流：\\n\"+'|'.join(lists)+'\\n或者说声再见我们下次聊....'\n",
    "def  Interaction():\n",
    "    #入口点，用户交互起始点，并通过它返回\n",
    "    while True:\n",
    "        saying=input(\"说说你的想法吧!\\n===》\")\n",
    "        if  '再见' in saying:\n",
    "            print (\"再见啦，期待与你再次相见！！\")\n",
    "            return\n",
    "        res=get_response(saying,rule_responses)\n",
    "        print (res)\n",
    "\n",
    "def continue_ask(saying):\n",
    "    #若上一句符合要求，将进行进一步询问\n",
    "    second_saying=input(random.choice(mid_reply)+'\\n'+\"===>\")\n",
    "    if   saying in second_saying:\n",
    "        new_saying=second_saying\n",
    "    elif ' ' in saying: #有空格表示输入的是英文\n",
    "        new_saying=saying+' '+second_saying\n",
    "    else:#表示输入中文\n",
    "        new_saying=saying+second_saying\n",
    "    return  get_response(new_saying,rule_responses)\n",
    "\n",
    "Interaction()\n"
   ]
  },
  {
   "cell_type": "markdown",
   "metadata": {},
   "source": [
    "### 问题4"
   ]
  },
  {
   "cell_type": "markdown",
   "metadata": {},
   "source": [
    "**1. 这样的程序有什么优点？有什么缺点？你有什么可以改进的方法吗？**  \n",
    "　　我的以上两个程序在设计模式以及语法结构上，我觉得存在一定的问题。希望老师能在此次批改作业的过程中帮我提出改进建议，并在以后的学习工作过程中我该如何改进避免。另外，如果程序出现bug还望老师能够批评指正，谢谢！  \n",
    "  **2. 什么是数据驱动？数据驱动在这个程序里如何体现？**  \n",
    "　　数据驱动是通过信息化手段及其他人工方式采集海量的数据，将数据进行组织形成信息，之后对相关的信息进行整合和提炼，在数据的基础上经过训练和拟合帮助使用者进行决策、改进的一种手段方式。  \n",
    "　　在本程序中，若对用户提出的问题作出合理回复，需要大量的、具有代表性的数据支持。  \n",
    "  **3. 数据驱动与 AI 的关系是什么？**\n",
    "　　以下是我的个人理解:    \n",
    "　　AI在实际生活生产应用中可以理解为一个个项目的概念，每一个实际使用的AI产品都是一个项目，可以说数据驱动在整个AI项目的周期中都具有核心作用。  \n",
    "　　**在需求设计过程中**，数据驱动的作用是驱动建立项目目标。现在大家都提倡做什么事用数据说话，通过研究历史数据，我们总结出项目的痛点，而解决痛点就是我们的实际目标。同时，通过数据的表现形式、指标，我们找出对应的解决方案。  \n",
    "　　**在项目建设过程中**，数据驱动形成产品。我们项目的每一步开发，都要结合实际使用情况，尤其是在产品的测试过程中，我们要通过大量数据来纠偏我们理论或者想象中的产品和实际差别。  \n",
    "　　**在项目运营过程中**，数据驱动着完善产品，当产品面临实时的(相对)、最新的数据时，考验我们的产品能否适应时代的需求，这时候我们要对产品进行改进迭代，以至达到持续稳定运行的状态，这时候我们才算形成了真正的产品。再往后就是，站在巨人的肩膀上的创新了，那将是有一个项目周期。  \n",
    "　　综上，我觉得数据驱动在所有的项目产品中都发挥着重要作用，在AI领域尤为明显。"
   ]
  },
  {
   "cell_type": "markdown",
   "metadata": {},
   "source": [
    "一些参考 pattern"
   ]
  },
  {
   "cell_type": "code",
   "execution_count": 1,
   "metadata": {},
   "outputs": [],
   "source": [
    "rule_responses = {\n",
    "    '?*x hello ?*y': ['How do you do', 'Please state your problem'],\n",
    "    '?*x I want ?*y': ['what would it mean if you got ?y', 'Why do you want ?y', 'Suppose you got ?y soon'],\n",
    "    '?*x if ?*y': ['Do you really think its likely that ?y', 'Do you wish that ?y', 'What do you think about ?y', 'Really-- if ?y'],\n",
    "    '?*x no ?*y': ['why not?', 'You are being a negative', 'Are you saying \\'No\\' just to be negative?'],\n",
    "    '?*x I was ?*y': ['Were you really', 'Perhaps I already knew you were ?y', 'Why do you tell me you were ?y now?'],\n",
    "    '?*x I feel ?*y': ['Do you often feel ?y ?', 'What other feelings do you have?'],\n",
    "    '?*x你好?*y': ['你好呀', '请告诉我你的问题'],\n",
    "    '?*x我想?*y': ['你觉得?y有什么意义呢？', '为什么你想?y', '你可以想想你很快就可以?y了'],\n",
    "    '?*x我想要?*y': ['?x想问你，你觉得?y有什么意义呢?', '为什么你想?y', '?x觉得... 你可以想想你很快就可以有?y了', '你看?x像?y不', '我看你就像?y'],\n",
    "    '?*x喜欢?*y': ['喜欢?y的哪里？', '?y有什么好的呢？', '你想要?y吗？'],\n",
    "    '?*x讨厌?*y': ['?y怎么会那么讨厌呢?', '讨厌?y的哪里？', '?y有什么不好呢？', '你不想要?y吗？'],\n",
    "    '?*xAI?*y': ['你为什么要提AI的事情？', '你为什么觉得AI要解决你的问题？'],\n",
    "    '?*x机器人?*y': ['你为什么要提机器人的事情？', '你为什么觉得机器人要解决你的问题？'],\n",
    "    '?*x对不起?*y': ['不用道歉', '你为什么觉得你需要道歉呢?'],\n",
    "    '?*x我记得?*y': ['你经常会想起这个吗？', '除了?y你还会想起什么吗？', '你为什么和我提起?y'],\n",
    "    '?*x如果?*y': ['你真的觉得?y会发生吗？', '你希望?y吗?', '真的吗？如果?y的话', '关于?y你怎么想？'],\n",
    "    '?*x我?*z梦见?*y':['真的吗? --- ?y', '你在醒着的时候，以前想象过?y吗？', '你以前梦见过?y吗'],\n",
    "    '?*x妈妈?*y': ['你家里除了?y还有谁?', '嗯嗯，多说一点和你家里有关系的', '她对你影响很大吗？'],\n",
    "    '?*x爸爸?*y': ['你家里除了?y还有谁?', '嗯嗯，多说一点和你家里有关系的', '他对你影响很大吗？', '每当你想起你爸爸的时候， 你还会想起其他的吗?'],\n",
    "    '?*x我愿意?*y': ['我可以帮你?y吗？', '你可以解释一下，为什么想?y'],\n",
    "    '?*x我很难过，因为?*y': ['我听到你这么说， 也很难过', '?y不应该让你这么难过的'],\n",
    "    '?*x难过?*y': ['我听到你这么说， 也很难过',\n",
    "                 '不应该让你这么难过的，你觉得你拥有什么，就会不难过?',\n",
    "                 '你觉得事情变成什么样，你就不难过了?'],\n",
    "    '?*x就像?*y': ['你觉得?x和?y有什么相似性？', '?x和?y真的有关系吗？', '怎么说？'],\n",
    "    '?*x和?*y都?*z': ['你觉得?z有什么问题吗?', '?z会对你有什么影响呢?'],\n",
    "    '?*x和?*y一样?*z': ['你觉得?z有什么问题吗?', '?z会对你有什么影响呢?'],\n",
    "    '?*x我是?*y': ['真的吗？', '?x想告诉你，或许我早就知道你是?y', '你为什么现在才告诉我你是?y'],\n",
    "    '?*x我是?*y吗': ['如果你是?y会怎么样呢？', '你觉得你是?y吗', '如果你是?y，那一位着什么?'],\n",
    "    '?*x你是?*y吗':  ['你为什么会对我是不是?y感兴趣?', '那你希望我是?y吗', '你要是喜欢， 我就会是?y'],\n",
    "    '?*x你是?*y' : ['为什么你觉得我是?y'],\n",
    "    '?*x因为?*y' : ['?y是真正的原因吗？', '你觉得会有其他原因吗?'],\n",
    "    '?*x我不能?*y': ['你或许现在就能?*y', '如果你能?*y,会怎样呢？'],\n",
    "    '?*x我觉得?*y': ['你经常这样感觉吗？', '除了到这个，你还有什么其他的感觉吗？'],\n",
    "    '?*x我?*y你?*z': ['其实很有可能我们互相?y'],\n",
    "    '?*x你为什么不?*y': ['你自己为什么不?y', '你觉得我不会?y', '等我心情好了，我就?y'],\n",
    "    '?*x好的?*y': ['好的', '你是一个很正能量的人'],\n",
    "    '?*x嗯嗯?*y': ['好的', '你是一个很正能量的人'],\n",
    "    '?*x不嘛?*y': ['为什么不？', '你有一点负能量', '你说 不，是想表达不想的意思吗？'],\n",
    "    '?*x不要?*y': ['为什么不？', '你有一点负能量', '你说 不，是想表达不想的意思吗？'],\n",
    "    '?*x有些人?*y': ['具体是哪些人呢?'],\n",
    "    '?*x有的人?*y': ['具体是哪些人呢?'],\n",
    "    '?*x某些人?*y': ['具体是哪些人呢?'],\n",
    "    '?*x每个人?*y': ['我确定不是人人都是', '你能想到一点特殊情况吗？', '例如谁？', '你看到的其实只是一小部分人'],\n",
    "    '?*x所有人?*y': ['我确定不是人人都是', '你能想到一点特殊情况吗？', '例如谁？', '你看到的其实只是一小部分人'],\n",
    "    '?*x总是?*y': ['你能想到一些其他情况吗?', '例如什么时候?', '你具体是说哪一次？', '真的---总是吗？'],\n",
    "    '?*x一直?*y': ['你能想到一些其他情况吗?', '例如什么时候?', '你具体是说哪一次？', '真的---总是吗？'],\n",
    "    '?*x或许?*y': ['你看起来不太确定'],\n",
    "    '?*x可能?*y': ['你看起来不太确定'],\n",
    "    '?*x他们是?*y吗？': ['你觉得他们可能不是?y？'],\n",
    "    '?*x': ['很有趣', '请继续', '我不太确定我很理解你说的, 能稍微详细解释一下吗?']\n",
    "}\n"
   ]
  }
 ],
 "metadata": {
  "kernelspec": {
   "display_name": "Python 3",
   "language": "python",
   "name": "python3"
  },
  "language_info": {
   "codemirror_mode": {
    "name": "ipython",
    "version": 3
   },
   "file_extension": ".py",
   "mimetype": "text/x-python",
   "name": "python",
   "nbconvert_exporter": "python",
   "pygments_lexer": "ipython3",
   "version": "3.7.0"
  }
 },
 "nbformat": 4,
 "nbformat_minor": 2
}
